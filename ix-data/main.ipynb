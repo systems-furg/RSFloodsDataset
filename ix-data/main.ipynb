{
 "cells": [
  {
   "cell_type": "code",
   "execution_count": null,
   "metadata": {},
   "outputs": [],
   "source": [
    "from util.scannerUnpack import unpackMRTs\n",
    "from util.getData import parseFiles\n",
    "from util.refineData import makeDataframeSingleProcess"
   ]
  },
  {
   "cell_type": "code",
   "execution_count": null,
   "metadata": {},
   "outputs": [],
   "source": [
    "mrtFolder = '' #Folder of the MRT Files unpacked from zip\n",
    "unpackedMRTsFolder = '' #Target folder to unpack MRTS and read them\n",
    "parsedMRTsFolder =  '' #Folder for parsed mrt files\n",
    "graphsFolder = '' #Folder for graphs\n",
    "\n",
    "location = 0 #0 All, 1 Only in RS State, 2 Excluding in RS State\n",
    "\n",
    "aspp = 0 #0 Consider ASPP in path size, 1 remove ASPP in path size\n",
    "\n",
    "shortestBetweenMembers = 0 #0 Consider all paths in MRT,1 Consider only the shortest path size between a member AS and a reachable AS"
   ]
  },
  {
   "cell_type": "code",
   "execution_count": null,
   "metadata": {},
   "outputs": [],
   "source": [
    "unpackMRTs(mrtFolder,unpackedMRTsFolder) #Requires BGPScanner\n"
   ]
  },
  {
   "cell_type": "code",
   "execution_count": null,
   "metadata": {},
   "outputs": [],
   "source": [
    "parseFiles(unpackedMRTsFolder,parsedMRTsFolder,location,aspp,shortestBetweenMembers) #3 minutes with location 0, about 11 minutes with location != 0"
   ]
  },
  {
   "cell_type": "code",
   "execution_count": null,
   "metadata": {},
   "outputs": [],
   "source": [
    "makeDataframeSingleProcess(parsedMRTsFolder,graphsFolder,location)"
   ]
  }
 ],
 "metadata": {
  "kernelspec": {
   "display_name": "Python 3",
   "language": "python",
   "name": "python3"
  },
  "language_info": {
   "codemirror_mode": {
    "name": "ipython",
    "version": 3
   },
   "file_extension": ".py",
   "mimetype": "text/x-python",
   "name": "python",
   "nbconvert_exporter": "python",
   "pygments_lexer": "ipython3",
   "version": "3.11.5"
  }
 },
 "nbformat": 4,
 "nbformat_minor": 2
}
